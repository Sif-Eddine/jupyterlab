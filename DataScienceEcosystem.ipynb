{
 "cells": [
  {
   "cell_type": "markdown",
   "id": "1fd71d2a-3040-46e0-93be-bfc6d39d0c25",
   "metadata": {
    "tags": []
   },
   "source": [
    "<h1>Data Science Tools and Ecosystem</h1>"
   ]
  },
  {
   "cell_type": "markdown",
   "id": "b915ee39-23ea-449c-8a29-0373f8c7e508",
   "metadata": {},
   "source": [
    "In this notebook, Data Science Tools and Ecosystem are summarized."
   ]
  },
  {
   "cell_type": "markdown",
   "id": "a32cadb5-4c6a-4d5e-9109-d718acf73198",
   "metadata": {},
   "source": [
    "<b>Objectives:</b>\n",
    "<ul>\n",
    "    <li>List popular languages for Data Science</li>     \n",
    "    <li>List Some of the commonly used libraries used by Data Scientists include</li>     \n",
    "    <li>List some Data Science Tools</li>   \n",
    "    \n",
    "</ul>"
   ]
  },
  {
   "cell_type": "markdown",
   "id": "c8232a51-9074-438d-8519-9138a00279e9",
   "metadata": {},
   "source": [
    "Some of the popular languages that Data Scientists use are:\n",
    "    <ol>\n",
    "    <li>Python</li>\n",
    "    <li>R</li>\n",
    "    <li>C++</li>\n",
    "    </ol>"
   ]
  },
  {
   "cell_type": "markdown",
   "id": "0a50bcfe-2e6a-45ba-881f-21fff93cd57f",
   "metadata": {},
   "source": [
    "Some of the commonly used libraries used by Data Scientists include:\n",
    "    <ol>\n",
    "    <li>Tensorflow</li>\n",
    "    <li>matplotlib</li>\n",
    "    <li>scikit-learn</li>\n",
    "    </ol>"
   ]
  },
  {
   "cell_type": "markdown",
   "id": "3f53453d-75fb-4de3-8997-0429d3dcccd0",
   "metadata": {},
   "source": [
    "<table style=\"float:left;\">\n",
    "<tr><th>Data Science Tools</th></tr>\n",
    "<tr><td>Jupyter Lab</td></tr>\n",
    "<tr><td>Google Colab</td></tr>\n",
    "<tr><td>R studio</td></tr>\n",
    "<tr><td>MySQL</td></tr>\n",
    "<tr><td>Apache Spark</td></tr>\n",
    "<tr><td>KNIME</td></tr>\n",
    "</table>"
   ]
  },
  {
   "cell_type": "markdown",
   "id": "20b2b441-afcf-4afc-92a1-d26c7d03bc22",
   "metadata": {
    "tags": []
   },
   "source": [
    "<h3>Below are a few examples of evaluating arithmetic expressions in Python:</h3>"
   ]
  },
  {
   "cell_type": "code",
   "execution_count": 2,
   "id": "da2299b2-099a-4765-a6d5-b8ca61c7f594",
   "metadata": {
    "tags": []
   },
   "outputs": [
    {
     "data": {
      "text/plain": [
       "17"
      ]
     },
     "execution_count": 2,
     "metadata": {},
     "output_type": "execute_result"
    }
   ],
   "source": [
    "# This a simple arithmetic expression to mutiply then add integers\n",
    "(3*4)+5"
   ]
  },
  {
   "cell_type": "code",
   "execution_count": 4,
   "id": "2b866718-2cf9-4988-be0e-180db879ba5b",
   "metadata": {
    "tags": []
   },
   "outputs": [
    {
     "data": {
      "text/plain": [
       "'200 minues has 3 hours and 20 minutes'"
      ]
     },
     "execution_count": 4,
     "metadata": {},
     "output_type": "execute_result"
    }
   ],
   "source": [
    "#This will convert 200 minutes to hours by diving by 60\n",
    "a = 200\n",
    "x = a//60\n",
    "y = a-x*60\n",
    "str(a) + \" minues has \"+str(x)+\" hours and \"+str(y)+\" minutes\""
   ]
  },
  {
   "cell_type": "markdown",
   "id": "3edf88be-94c6-404d-95aa-8edc38f64a64",
   "metadata": {},
   "source": [
    "<h2>Author</h2>\n",
    "Sif Eddine BELALIA"
   ]
  },
  {
   "cell_type": "code",
   "execution_count": null,
   "id": "a0fedba2-923b-4e9b-83bd-b15d4ae6d0a3",
   "metadata": {},
   "outputs": [],
   "source": []
  }
 ],
 "metadata": {
  "kernelspec": {
   "display_name": "Python",
   "language": "python",
   "name": "conda-env-python-py"
  },
  "language_info": {
   "codemirror_mode": {
    "name": "ipython",
    "version": 3
   },
   "file_extension": ".py",
   "mimetype": "text/x-python",
   "name": "python",
   "nbconvert_exporter": "python",
   "pygments_lexer": "ipython3",
   "version": "3.7.12"
  }
 },
 "nbformat": 4,
 "nbformat_minor": 5
}
